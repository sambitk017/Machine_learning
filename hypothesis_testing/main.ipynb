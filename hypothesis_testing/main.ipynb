{
 "cells": [
  {
   "cell_type": "code",
   "execution_count": 41,
   "id": "05c72c0e",
   "metadata": {},
   "outputs": [],
   "source": [
    "import pandas as pd\n",
    "import numpy as np\n",
    "import matplotlib.pyplot as plt\n",
    "import seaborn as sns\n",
    "from scipy import stats\n",
    "from sklearn.decomposition import PCA\n",
    "from sklearn.manifold import TSNE\n",
    "from sklearn.preprocessing import StandardScaler\n",
    "from sklearn.model_selection import train_test_split"
   ]
  },
  {
   "cell_type": "code",
   "execution_count": 7,
   "id": "c8e61ac5",
   "metadata": {},
   "outputs": [],
   "source": [
    "data = pd.read_csv(\"pizza_sales.csv\")"
   ]
  },
  {
   "cell_type": "code",
   "execution_count": 11,
   "id": "148644c6",
   "metadata": {},
   "outputs": [
    {
     "data": {
      "text/plain": [
       "pizza_id                                                           1.0\n",
       "order_id                                                       10760.0\n",
       "pizza_name_id                                               big_meat_s\n",
       "quantity                                                           1.0\n",
       "order_date                                                  26-11-2015\n",
       "order_time                                                    12:32:00\n",
       "unit_price                                                       20.75\n",
       "total_price                                                      20.75\n",
       "pizza_size                                                           L\n",
       "pizza_category                                                 Classic\n",
       "pizza_ingredients    Pepperoni, Mushrooms, Red Onions, Red Peppers,...\n",
       "pizza_name                                    The Classic Deluxe Pizza\n",
       "Name: 0, dtype: object"
      ]
     },
     "execution_count": 11,
     "metadata": {},
     "output_type": "execute_result"
    }
   ],
   "source": [
    "desc_stats = data.describe()\n",
    "data_median = data.median(numeric_only=True)\n",
    "data_mode = data.mode().iloc[0]  # Mode may return multiple values, take the first'\n",
    "\n",
    "data_mode"
   ]
  },
  {
   "cell_type": "code",
   "execution_count": 16,
   "id": "bab5738e",
   "metadata": {},
   "outputs": [
    {
     "data": {
      "text/plain": [
       "Index(['pizza_id', 'order_id', 'pizza_name_id', 'quantity', 'order_date',\n",
       "       'order_time', 'unit_price', 'total_price', 'pizza_size',\n",
       "       'pizza_category', 'pizza_ingredients', 'pizza_name'],\n",
       "      dtype='object')"
      ]
     },
     "execution_count": 16,
     "metadata": {},
     "output_type": "execute_result"
    }
   ],
   "source": [
    "data.columns"
   ]
  },
  {
   "cell_type": "code",
   "execution_count": 32,
   "id": "2bea637d",
   "metadata": {},
   "outputs": [
    {
     "data": {
      "text/html": [
       "<div>\n",
       "<style scoped>\n",
       "    .dataframe tbody tr th:only-of-type {\n",
       "        vertical-align: middle;\n",
       "    }\n",
       "\n",
       "    .dataframe tbody tr th {\n",
       "        vertical-align: top;\n",
       "    }\n",
       "\n",
       "    .dataframe thead th {\n",
       "        text-align: right;\n",
       "    }\n",
       "</style>\n",
       "<table border=\"1\" class=\"dataframe\">\n",
       "  <thead>\n",
       "    <tr style=\"text-align: right;\">\n",
       "      <th></th>\n",
       "      <th>quantity</th>\n",
       "      <th>order_date</th>\n",
       "      <th>unit_price</th>\n",
       "      <th>total_price</th>\n",
       "      <th>pizza_size</th>\n",
       "      <th>pizza_category</th>\n",
       "    </tr>\n",
       "  </thead>\n",
       "  <tbody>\n",
       "    <tr>\n",
       "      <th>0</th>\n",
       "      <td>1.0</td>\n",
       "      <td>1/1/2015</td>\n",
       "      <td>13.25</td>\n",
       "      <td>13.25</td>\n",
       "      <td>M</td>\n",
       "      <td>Classic</td>\n",
       "    </tr>\n",
       "    <tr>\n",
       "      <th>1</th>\n",
       "      <td>1.0</td>\n",
       "      <td>1/1/2015</td>\n",
       "      <td>16.00</td>\n",
       "      <td>16.00</td>\n",
       "      <td>M</td>\n",
       "      <td>Classic</td>\n",
       "    </tr>\n",
       "    <tr>\n",
       "      <th>2</th>\n",
       "      <td>1.0</td>\n",
       "      <td>1/1/2015</td>\n",
       "      <td>18.50</td>\n",
       "      <td>18.50</td>\n",
       "      <td>L</td>\n",
       "      <td>Veggie</td>\n",
       "    </tr>\n",
       "    <tr>\n",
       "      <th>3</th>\n",
       "      <td>1.0</td>\n",
       "      <td>1/1/2015</td>\n",
       "      <td>20.75</td>\n",
       "      <td>20.75</td>\n",
       "      <td>L</td>\n",
       "      <td>Supreme</td>\n",
       "    </tr>\n",
       "    <tr>\n",
       "      <th>4</th>\n",
       "      <td>1.0</td>\n",
       "      <td>1/1/2015</td>\n",
       "      <td>16.00</td>\n",
       "      <td>16.00</td>\n",
       "      <td>M</td>\n",
       "      <td>Veggie</td>\n",
       "    </tr>\n",
       "    <tr>\n",
       "      <th>...</th>\n",
       "      <td>...</td>\n",
       "      <td>...</td>\n",
       "      <td>...</td>\n",
       "      <td>...</td>\n",
       "      <td>...</td>\n",
       "      <td>...</td>\n",
       "    </tr>\n",
       "    <tr>\n",
       "      <th>48615</th>\n",
       "      <td>1.0</td>\n",
       "      <td>31-12-2015</td>\n",
       "      <td>16.75</td>\n",
       "      <td>16.75</td>\n",
       "      <td>M</td>\n",
       "      <td>Chicken</td>\n",
       "    </tr>\n",
       "    <tr>\n",
       "      <th>48616</th>\n",
       "      <td>1.0</td>\n",
       "      <td>31-12-2015</td>\n",
       "      <td>17.95</td>\n",
       "      <td>17.95</td>\n",
       "      <td>L</td>\n",
       "      <td>Veggie</td>\n",
       "    </tr>\n",
       "    <tr>\n",
       "      <th>48617</th>\n",
       "      <td>1.0</td>\n",
       "      <td>31-12-2015</td>\n",
       "      <td>12.00</td>\n",
       "      <td>12.00</td>\n",
       "      <td>S</td>\n",
       "      <td>Classic</td>\n",
       "    </tr>\n",
       "    <tr>\n",
       "      <th>48618</th>\n",
       "      <td>1.0</td>\n",
       "      <td>31-12-2015</td>\n",
       "      <td>20.25</td>\n",
       "      <td>20.25</td>\n",
       "      <td>L</td>\n",
       "      <td>Veggie</td>\n",
       "    </tr>\n",
       "    <tr>\n",
       "      <th>48619</th>\n",
       "      <td>1.0</td>\n",
       "      <td>31-12-2015</td>\n",
       "      <td>12.75</td>\n",
       "      <td>12.75</td>\n",
       "      <td>S</td>\n",
       "      <td>Chicken</td>\n",
       "    </tr>\n",
       "  </tbody>\n",
       "</table>\n",
       "<p>48620 rows × 6 columns</p>\n",
       "</div>"
      ],
      "text/plain": [
       "       quantity  order_date  unit_price  total_price pizza_size pizza_category\n",
       "0           1.0    1/1/2015       13.25        13.25          M        Classic\n",
       "1           1.0    1/1/2015       16.00        16.00          M        Classic\n",
       "2           1.0    1/1/2015       18.50        18.50          L         Veggie\n",
       "3           1.0    1/1/2015       20.75        20.75          L        Supreme\n",
       "4           1.0    1/1/2015       16.00        16.00          M         Veggie\n",
       "...         ...         ...         ...          ...        ...            ...\n",
       "48615       1.0  31-12-2015       16.75        16.75          M        Chicken\n",
       "48616       1.0  31-12-2015       17.95        17.95          L         Veggie\n",
       "48617       1.0  31-12-2015       12.00        12.00          S        Classic\n",
       "48618       1.0  31-12-2015       20.25        20.25          L         Veggie\n",
       "48619       1.0  31-12-2015       12.75        12.75          S        Chicken\n",
       "\n",
       "[48620 rows x 6 columns]"
      ]
     },
     "execution_count": 32,
     "metadata": {},
     "output_type": "execute_result"
    }
   ],
   "source": [
    "# drop unnecessary co;umns for Regression\n",
    "\n",
    "def drop_uncessary(df, unnecessary_columns:list):\n",
    "    cropped_data = df.drop(columns=unnecessary_columns,)\n",
    "    return cropped_data\n",
    "drop_uncessary(data, ['pizza_id', 'order_id', 'pizza_name_id', 'order_time','pizza_ingredients', 'pizza_name'])\n",
    "    "
   ]
  },
  {
   "cell_type": "code",
   "execution_count": 37,
   "id": "b62898d7",
   "metadata": {},
   "outputs": [],
   "source": [
    "new_df = drop_uncessary(data, ['pizza_id', 'order_id', 'pizza_name_id', 'order_time','pizza_ingredients', 'pizza_name'])\n"
   ]
  },
  {
   "cell_type": "markdown",
   "id": "a53e0ea2",
   "metadata": {},
   "source": [
    "# Preprocessing"
   ]
  },
  {
   "cell_type": "code",
   "execution_count": 55,
   "id": "a127c5ec",
   "metadata": {},
   "outputs": [
    {
     "data": {
      "text/plain": [
       "pizza_id             0\n",
       "order_id             0\n",
       "pizza_name_id        0\n",
       "quantity             0\n",
       "order_date           0\n",
       "order_time           0\n",
       "unit_price           0\n",
       "total_price          0\n",
       "pizza_size           0\n",
       "pizza_category       0\n",
       "pizza_ingredients    0\n",
       "pizza_name           0\n",
       "dtype: int64"
      ]
     },
     "execution_count": 55,
     "metadata": {},
     "output_type": "execute_result"
    }
   ],
   "source": [
    "# NULL VALUES\n",
    "data.isnull().sum()\n"
   ]
  },
  {
   "cell_type": "markdown",
   "id": "14b5917c",
   "metadata": {},
   "source": [
    "# Statistic Analysis"
   ]
  },
  {
   "cell_type": "markdown",
   "id": "c8f753fc",
   "metadata": {},
   "source": [
    "### Descriptive"
   ]
  },
  {
   "cell_type": "code",
   "execution_count": null,
   "id": "bd3c5fa5",
   "metadata": {},
   "outputs": [
    {
     "data": {
      "text/plain": [
       "{'column': 'quantity',\n",
       " 'stats': count    48620.000000\n",
       " mean         1.019622\n",
       " std          0.143077\n",
       " min          1.000000\n",
       " 25%          1.000000\n",
       " 50%          1.000000\n",
       " 75%          1.000000\n",
       " max          4.000000\n",
       " Name: quantity, dtype: float64,\n",
       " 'median': np.float64(1.0),\n",
       " 'mode': np.float64(1.0),\n",
       " 'variance': np.float64(0.02047103059730658),\n",
       " 'STD': np.float64(0.14307700932472198)}"
      ]
     },
     "execution_count": 38,
     "metadata": {},
     "output_type": "execute_result"
    }
   ],
   "source": [
    "def statistical_analysis(data, column: str):\n",
    "    target_column = data[column]\n",
    "    desc_stats = target_column.describe()\n",
    "    median = target_column.median()\n",
    "    mode = target_column.mode().iloc[0] if not data[column].mode().empty else np.nan\n",
    "    variance = target_column.var()\n",
    "    std_dev = target_column.std()\n",
    "    result = {\n",
    "        \"column\": column,\n",
    "        \"stats\" : desc_stats,\n",
    "        \"median\": median,\n",
    "        \"mode\": mode,\n",
    "        \"variance\": variance,\n",
    "        \"STD\": std_dev\n",
    "    }\n",
    "\n",
    "    return result\n",
    "statistical_analysis(new_df, 'quantity')"
   ]
  },
  {
   "cell_type": "markdown",
   "id": "8169f36a",
   "metadata": {},
   "source": [
    "### Probability Distribution"
   ]
  },
  {
   "cell_type": "code",
   "execution_count": 42,
   "id": "b9c736d6",
   "metadata": {},
   "outputs": [
    {
     "data": {
      "image/png": "[encoded data removed]",
      "text/plain": [
       "<Figure size 800x500 with 1 Axes>"
      ]
     },
     "metadata": {},
     "output_type": "display_data"
    }
   ],
   "source": [
    "def probability_dist(df, column):\n",
    "    plt.figure(figsize=(8, 5))\n",
    "    sns.histplot(df[column], kde=True, color=\"skyblue\" )\n",
    "    plt.title(f\"probability_dist of {column}\")\n",
    "    plt.show()\n",
    "probability_dist(new_df, \"quantity\")"
   ]
  },
  {
   "cell_type": "markdown",
   "id": "ba4a4f94",
   "metadata": {},
   "source": [
    "### Hypothesis testing "
   ]
  },
  {
   "cell_type": "code",
   "execution_count": 50,
   "id": "d04aa21c",
   "metadata": {},
   "outputs": [],
   "source": [
    "import pandas as pd\n",
    "from scipy import stats\n",
    "\n",
    "def hypothesis_test(df, group_col, value_col, group1, group2, test_type='t-test', alpha=0.05):\n",
    "    \"\"\"\n",
    "    Perform hypothesis testing on two groups within a DataFrame.\n",
    "\n",
    "    Parameters:\n",
    "    - df: pandas DataFrame containing the data\n",
    "    - group_col: column name to group by (e.g., 'category')\n",
    "    - value_col: column name of the values to compare (e.g., 'total_price')\n",
    "    - group1: name of the first group (e.g., 'Classic')\n",
    "    - group2: name of the second group (e.g., 'Veggie')\n",
    "    - test_type: type of test ('t-test', 'mannwhitney', 'anova')\n",
    "    - alpha: significance level (default is 0.05)\n",
    "\n",
    "    Returns:\n",
    "    - Dictionary containing test statistic, p-value, and conclusion\n",
    "    \"\"\"\n",
    "    data1 = df[df[group_col] == group1][value_col]\n",
    "    data2 = df[df[group_col] == group2][value_col]\n",
    "\n",
    "    if test_type == 't-test':\n",
    "        stat, p = stats.ttest_ind(data1, data2, equal_var=False)\n",
    "    elif test_type == 'mannwhitney':\n",
    "        stat, p = stats.mannwhitneyu(data1, data2, alternative='two-sided')\n",
    "    elif test_type == 'anova':\n",
    "        stat, p = stats.f_oneway(data1, data2)\n",
    "    else:\n",
    "        raise ValueError(\"Unsupported test_type. Choose 't-test', 'mannwhitney', or 'anova'.\")\n",
    "\n",
    "    result = {\n",
    "        'test_statistic': stat,\n",
    "        'p_value': p,\n",
    "        'conclusion': 'Reject null hypothesis' if p < alpha else 'Fail to reject null hypothesis'\n",
    "    }\n",
    "    return result\n"
   ]
  },
  {
   "cell_type": "code",
   "execution_count": null,
   "id": "983d5a58",
   "metadata": {},
   "outputs": [],
   "source": []
  }
 ],
 "metadata": {
  "kernelspec": {
   "display_name": "myenv",
   "language": "python",
   "name": "python3"
  },
  "language_info": {
   "codemirror_mode": {
    "name": "ipython",
    "version": 3
   },
   "file_extension": ".py",
   "mimetype": "text/x-python",
   "name": "python",
   "nbconvert_exporter": "python",
   "pygments_lexer": "ipython3",
   "version": "3.9.0"
  }
 },
 "nbformat": 4,
 "nbformat_minor": 5
}
